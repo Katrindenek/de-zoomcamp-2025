{
 "cells": [
  {
   "cell_type": "markdown",
   "id": "8de4772c-f8f1-4dd9-8e9b-70d38326131e",
   "metadata": {},
   "source": [
    "# Homework 5"
   ]
  },
  {
   "cell_type": "markdown",
   "id": "bebdd17e-49cb-4874-a6ff-3ac1d5bd825f",
   "metadata": {},
   "source": [
    "## Question 1: Install Spark and PySpark\n",
    "\n",
    "- Install Spark\n",
    "- Run PySpark\n",
    "- Create a local spark session\n",
    "- Execute spark.version.\n",
    "\n",
    "What's the output?"
   ]
  },
  {
   "cell_type": "code",
   "execution_count": 1,
   "id": "7c8eac29-8739-4459-bfc2-03ed2a6b1813",
   "metadata": {},
   "outputs": [
    {
     "name": "stderr",
     "output_type": "stream",
     "text": [
      "Setting default log level to \"WARN\".\n",
      "To adjust logging level use sc.setLogLevel(newLevel). For SparkR, use setLogLevel(newLevel).\n"
     ]
    },
    {
     "name": "stdout",
     "output_type": "stream",
     "text": [
      "25/03/10 11:29:25 WARN NativeCodeLoader: Unable to load native-hadoop library for your platform... using builtin-java classes where applicable\n"
     ]
    }
   ],
   "source": [
    "from pyspark.sql import SparkSession\n",
    "\n",
    "spark = SparkSession.builder \\\n",
    "    .master(\"local[*]\") \\\n",
    "    .appName('test') \\\n",
    "    .getOrCreate()"
   ]
  },
  {
   "cell_type": "code",
   "execution_count": 3,
   "id": "69860747-9d8b-4728-bbb3-e9c1c16cca97",
   "metadata": {},
   "outputs": [
    {
     "data": {
      "text/plain": [
       "'3.3.2'"
      ]
     },
     "execution_count": 3,
     "metadata": {},
     "output_type": "execute_result"
    }
   ],
   "source": [
    "spark.version"
   ]
  },
  {
   "cell_type": "markdown",
   "id": "c6256250-e951-46b5-86b5-8c9ce46703ea",
   "metadata": {},
   "source": [
    "## Question 2: Yellow October 2024\n",
    "\n",
    "Read the October 2024 Yellow into a Spark Dataframe.\n",
    "\n",
    "Repartition the Dataframe to 4 partitions and save it to parquet.\n",
    "\n",
    "What is the average size of the Parquet (ending with .parquet extension) Files that were created (in MB)? Select the answer which most closely matches.\n",
    "\n",
    "- 6MB\n",
    "- 25MB\n",
    "- 75MB\n",
    "- 100MB"
   ]
  },
  {
   "cell_type": "code",
   "execution_count": 3,
   "id": "31eae9c4-fb92-4100-a961-c39b84cced53",
   "metadata": {},
   "outputs": [
    {
     "name": "stdout",
     "output_type": "stream",
     "text": [
      "--2025-03-10 11:17:44--  https://d37ci6vzurychx.cloudfront.net/trip-data/yellow_tripdata_2024-10.parquet\n",
      "Resolving d37ci6vzurychx.cloudfront.net (d37ci6vzurychx.cloudfront.net)... 3.162.78.51, 3.162.78.164, 3.162.78.186, ...\n",
      "Connecting to d37ci6vzurychx.cloudfront.net (d37ci6vzurychx.cloudfront.net)|3.162.78.51|:443... connected.\n",
      "HTTP request sent, awaiting response... 200 OK\n",
      "Length: 64346071 (61M) [binary/octet-stream]\n",
      "Saving to: ‘yellow_tripdata_2024-10.parquet’\n",
      "\n",
      "yellow_tripdata_202 100%[===================>]  61.36M   106MB/s    in 0.6s    \n",
      "\n",
      "2025-03-10 11:17:44 (106 MB/s) - ‘yellow_tripdata_2024-10.parquet’ saved [64346071/64346071]\n",
      "\n"
     ]
    }
   ],
   "source": [
    "!wget https://d37ci6vzurychx.cloudfront.net/trip-data/yellow_tripdata_2024-10.parquet"
   ]
  },
  {
   "cell_type": "code",
   "execution_count": 4,
   "id": "1dda0f01-d2f6-4094-ba01-2402a7f4763b",
   "metadata": {},
   "outputs": [
    {
     "name": "stderr",
     "output_type": "stream",
     "text": [
      "                                                                                \r"
     ]
    }
   ],
   "source": [
    "df = spark.read \\\n",
    "    .option(\"header\", \"true\") \\\n",
    "    .parquet('yellow_tripdata_2024-10.parquet') \\\n",
    "    .repartition(4)\n",
    "\n",
    "df.write.parquet('yellow/2024/10/')"
   ]
  },
  {
   "cell_type": "markdown",
   "id": "74d23333-1b97-46b4-b441-284e7a513390",
   "metadata": {},
   "source": [
    "## Question 3: Count records \n",
    "\n",
    "How many taxi trips were there on the 15th of October?\n",
    "\n",
    "Consider only trips that started on the 15th of October.\n",
    "\n",
    "- 85,567\n",
    "- 105,567\n",
    "- 125,567\n",
    "- 145,567"
   ]
  },
  {
   "cell_type": "code",
   "execution_count": 2,
   "id": "f6c53c58-be7c-427a-80c0-af4f2730f2b2",
   "metadata": {},
   "outputs": [],
   "source": [
    "df_yellow = spark.read.parquet('yellow/*/*')"
   ]
  },
  {
   "cell_type": "code",
   "execution_count": 6,
   "id": "c49e41fe-4652-4edf-87fb-23688c7025bc",
   "metadata": {},
   "outputs": [],
   "source": [
    "df_yellow.createOrReplaceTempView('trips_data')"
   ]
  },
  {
   "cell_type": "code",
   "execution_count": 12,
   "id": "ca518a17-c9e9-41ad-8f90-97fd9596b055",
   "metadata": {},
   "outputs": [
    {
     "name": "stdout",
     "output_type": "stream",
     "text": [
      "+--------+\n",
      "|count(1)|\n",
      "+--------+\n",
      "|  126106|\n",
      "+--------+\n",
      "\n"
     ]
    }
   ],
   "source": [
    "spark.sql(\"\"\"\n",
    "SELECT\n",
    "    count(1)\n",
    "FROM\n",
    "    trips_data\n",
    "WHERE\n",
    "    CAST(tpep_pickup_datetime AS DATE) = '2024-10-15'\n",
    "    AND trip_distance > 0\n",
    "\"\"\").show()"
   ]
  },
  {
   "cell_type": "markdown",
   "id": "7be981f9-004a-4d36-a646-c971898d7107",
   "metadata": {},
   "source": [
    "## Question 4: Longest trip\n",
    "\n",
    "What is the length of the longest trip in the dataset in hours?\n",
    "\n",
    "- 122\n",
    "- 142\n",
    "- 162\n",
    "- 182"
   ]
  },
  {
   "cell_type": "code",
   "execution_count": 21,
   "id": "e745d89d-71b4-40fa-ad4f-a9b8afa69a25",
   "metadata": {},
   "outputs": [
    {
     "name": "stderr",
     "output_type": "stream",
     "text": [
      "[Stage 20:>                                                         (0 + 4) / 4]\r"
     ]
    },
    {
     "name": "stdout",
     "output_type": "stream",
     "text": [
      "+----------------------------------------------------------------+\n",
      "|timestampdiff(HOUR, tpep_pickup_datetime, tpep_dropoff_datetime)|\n",
      "+----------------------------------------------------------------+\n",
      "|                                                             162|\n",
      "|                                                             114|\n",
      "|                                                              89|\n",
      "|                                                              89|\n",
      "|                                                              70|\n",
      "|                                                              67|\n",
      "|                                                              66|\n",
      "|                                                              42|\n",
      "|                                                              38|\n",
      "|                                                              26|\n",
      "|                                                              25|\n",
      "|                                                              23|\n",
      "|                                                              23|\n",
      "|                                                              23|\n",
      "|                                                              23|\n",
      "|                                                              23|\n",
      "|                                                              23|\n",
      "|                                                              23|\n",
      "|                                                              23|\n",
      "|                                                              23|\n",
      "+----------------------------------------------------------------+\n",
      "only showing top 20 rows\n",
      "\n"
     ]
    },
    {
     "name": "stderr",
     "output_type": "stream",
     "text": [
      "                                                                                \r"
     ]
    }
   ],
   "source": [
    "spark.sql(\"\"\"\n",
    "SELECT\n",
    "    timestampdiff(HOUR, tpep_pickup_datetime, tpep_dropoff_datetime)\n",
    "FROM\n",
    "    trips_data\n",
    "WHERE\n",
    "    trip_distance > 0\n",
    "ORDER BY\n",
    "    timestampdiff(HOUR, tpep_pickup_datetime, tpep_dropoff_datetime) DESC\n",
    "\"\"\").show()"
   ]
  },
  {
   "cell_type": "markdown",
   "id": "b0bc0d28-ae8e-40d8-ad2b-ef92e481b24e",
   "metadata": {},
   "source": [
    "## Question 6: Least frequent pickup location zone\n",
    "\n",
    "Load the zone lookup data into a temp view in Spark:\n",
    "\n",
    "```bash\n",
    "wget https://d37ci6vzurychx.cloudfront.net/misc/taxi_zone_lookup.csv\n",
    "```\n",
    "\n",
    "Using the zone lookup data and the Yellow October 2024 data, what is the name of the LEAST frequent pickup location Zone?\n",
    "\n",
    "- Governor's Island/Ellis Island/Liberty Island\n",
    "- Arden Heights\n",
    "- Rikers Island\n",
    "- Jamaica Bay"
   ]
  },
  {
   "cell_type": "code",
   "execution_count": 23,
   "id": "d915ebc5-bcd9-403c-8b96-41efa2e6a051",
   "metadata": {},
   "outputs": [
    {
     "name": "stdout",
     "output_type": "stream",
     "text": [
      "--2025-03-10 11:59:17--  https://d37ci6vzurychx.cloudfront.net/misc/taxi_zone_lookup.csv\n",
      "Resolving d37ci6vzurychx.cloudfront.net (d37ci6vzurychx.cloudfront.net)... 3.161.178.192, 3.161.178.162, 3.161.178.24, ...\n",
      "Connecting to d37ci6vzurychx.cloudfront.net (d37ci6vzurychx.cloudfront.net)|3.161.178.192|:443... connected.\n",
      "HTTP request sent, awaiting response... 200 OK\n",
      "Length: 12331 (12K) [text/csv]\n",
      "Saving to: ‘taxi_zone_lookup.csv’\n",
      "\n",
      "taxi_zone_lookup.cs 100%[===================>]  12.04K  --.-KB/s    in 0.001s  \n",
      "\n",
      "2025-03-10 11:59:18 (9.04 MB/s) - ‘taxi_zone_lookup.csv’ saved [12331/12331]\n",
      "\n"
     ]
    }
   ],
   "source": [
    "!wget https://d37ci6vzurychx.cloudfront.net/misc/taxi_zone_lookup.csv"
   ]
  },
  {
   "cell_type": "code",
   "execution_count": 25,
   "id": "052a937a-876d-40bd-9dfb-ddc27428f131",
   "metadata": {},
   "outputs": [],
   "source": [
    "df = spark.read \\\n",
    "    .option(\"header\", \"true\") \\\n",
    "    .csv('taxi_zone_lookup.csv')"
   ]
  },
  {
   "cell_type": "code",
   "execution_count": 26,
   "id": "fe4bd6f5-0cb0-4c1e-8a72-29991a8e0bf6",
   "metadata": {},
   "outputs": [],
   "source": [
    "df.createOrReplaceTempView('taxi_zones')"
   ]
  },
  {
   "cell_type": "code",
   "execution_count": 27,
   "id": "d96fac2b-08ac-44d6-9c40-b32e01f3bb0a",
   "metadata": {},
   "outputs": [
    {
     "name": "stderr",
     "output_type": "stream",
     "text": [
      "[Stage 23:>                                                         (0 + 4) / 4]\r"
     ]
    },
    {
     "name": "stdout",
     "output_type": "stream",
     "text": [
      "+--------------------+--------+\n",
      "|                Zone|count(1)|\n",
      "+--------------------+--------+\n",
      "|Governor's Island...|       1|\n",
      "|   Rossville/Woodrow|       1|\n",
      "|       Rikers Island|       2|\n",
      "|       Port Richmond|       2|\n",
      "| Green-Wood Cemetery|       2|\n",
      "|Charleston/Totten...|       3|\n",
      "|       West Brighton|       3|\n",
      "|         Jamaica Bay|       3|\n",
      "|Eltingville/Annad...|       4|\n",
      "|         Great Kills|       5|\n",
      "|        Crotona Park|       6|\n",
      "|     Mariners Harbor|       7|\n",
      "|Heartland Village...|       7|\n",
      "|             Oakwood|       8|\n",
      "|       Broad Channel|       9|\n",
      "|New Dorp/Midland ...|       9|\n",
      "|Saint George/New ...|       9|\n",
      "|         Westerleigh|      10|\n",
      "|Breezy Point/Fort...|      10|\n",
      "|     Pelham Bay Park|      11|\n",
      "+--------------------+--------+\n",
      "only showing top 20 rows\n",
      "\n"
     ]
    },
    {
     "name": "stderr",
     "output_type": "stream",
     "text": [
      "                                                                                \r"
     ]
    }
   ],
   "source": [
    "spark.sql(\"\"\"\n",
    "SELECT\n",
    "    tz.Zone,\n",
    "    COUNT(1)\n",
    "FROM\n",
    "    trips_data td\n",
    "    INNER JOIN taxi_zones tz\n",
    "    ON td.PULocationID = tz.LocationID\n",
    "WHERE\n",
    "    trip_distance > 0\n",
    "GROUP BY\n",
    "    tz.Zone\n",
    "ORDER BY\n",
    "    COUNT(1)\n",
    "\"\"\").show()"
   ]
  },
  {
   "cell_type": "code",
   "execution_count": null,
   "id": "cbfce1dd-5030-47da-ac7a-9569e678b765",
   "metadata": {},
   "outputs": [],
   "source": []
  }
 ],
 "metadata": {
  "kernelspec": {
   "display_name": "Python 3 (ipykernel)",
   "language": "python",
   "name": "python3"
  },
  "language_info": {
   "codemirror_mode": {
    "name": "ipython",
    "version": 3
   },
   "file_extension": ".py",
   "mimetype": "text/x-python",
   "name": "python",
   "nbconvert_exporter": "python",
   "pygments_lexer": "ipython3",
   "version": "3.12.7"
  }
 },
 "nbformat": 4,
 "nbformat_minor": 5
}
